{
 "cells": [
  {
   "cell_type": "code",
   "id": "initial_id",
   "metadata": {
    "collapsed": true,
    "ExecuteTime": {
     "end_time": "2024-06-06T11:51:37.680442Z",
     "start_time": "2024-06-06T11:51:30.637197Z"
    }
   },
   "source": "import pandas as pd\n",
   "outputs": [],
   "execution_count": 1
  },
  {
   "metadata": {
    "ExecuteTime": {
     "end_time": "2024-06-06T13:39:54.488158Z",
     "start_time": "2024-06-06T13:39:54.465554Z"
    }
   },
   "cell_type": "code",
   "source": [
    "colunas_df = ['NU_NOTIFIC', 'TP_NOT', 'ID_AGRAVO', 'CS_SUSPEIT','IN_AIDS', 'CS_MENING',\n",
    "           'DT_NOTIFIC', 'SEM_NOT', 'NU_ANO', 'SG_UF_NOT', 'ID_MUNICIP', 'ID_REGIONA',\n",
    "           'ID_UNIDADE', 'DT_SIN_PRI', 'SEM_PRI', 'DT_NASC', 'NU_IDADE_N', 'CS_SEXO', \n",
    "           'CS_GESTANT', 'CS_RACA', 'CS_ESCOL_N', 'ID_CNS_SUS', 'SG_UF', 'ID_MN_RESI', \n",
    "           'ID_RG_RESI', 'ID_DISTRIT', 'ID_BAIRRO', 'NM_BAIRRO', 'NU_CEP', 'NU_DDD_TEL', \n",
    "           'NU_TELEFON', 'CS_ZONA', 'ID_PAIS', 'NDUPLIC_N', 'IN_VINCULA', 'DT_INVEST', \n",
    "           'ID_OCUPA_N', 'CLASSI_FIN', 'CRITERIO', 'TPAUTOCTO', 'COUFINF', 'COPAISINF',\n",
    "           'COMUNINF', 'CODISINF', 'CO_BAINFC', 'NOBAIINF', 'DOENCA_TRA', 'EVOLUCAO',\n",
    "           'DT_OBITO', 'DT_ENCERRA', 'DT_DIGITA', 'DT_TRANSUS', 'DT_TRANSDM', 'DT_TRANSSM',\n",
    "           'DT_TRANSRM', 'DT_TRANSRS', 'DT_TRANSSE', 'NU_LOTE_V', 'NU_LOTE_H', 'CS_FLXRET', \n",
    "           'FLXRECEBI', 'TPUNINOT']\n",
    "\n",
    "colunas_painel = ['NU_NOTIFIC', 'ID_AGRAVO', 'NU_ANO', 'ID_REGIONA', 'ID_MUNICIP', 'ID_MN_RESI', 'CS_SEXO', 'CS_RACA']\n",
    "\n",
    "anos = [2007, 2008, 2009, 2010, 2011, 2012, 2013, 2014, 2015, 2016, 2017, 2018, 2019, 2020]\n",
    "\n",
    "faixa_etaria = {\n",
    "    '': '',\n",
    "    '< 1H': ['001', '123'],\n",
    "    '01-06D': ['200', '206'],\n",
    "    '07-27D': ['207', '227'],\n",
    "    '28D-<1': ['228', '311'],\n",
    "    'Ign <1': ['400'],\n",
    "    '< 7d': ['001', '206'],\n",
    "    '07-27': ['207', '227'],\n",
    "    '28d-<1': ['228', '311'],\n",
    "    '< 01a': ['001', '400'],\n",
    "    '01-04a': ['401', '404'],\n",
    "    '05-14a': ['405', '414'],\n",
    "    '15-49a': ['415', '449'],\n",
    "    '50 e+': ['450', '599'],\n",
    "    '15-24a': ['415', '424'],\n",
    "    '25-34a': ['424', '434'],\n",
    "    '35-44a': ['435', '444'],\n",
    "    '45-54a': ['445', '454'],\n",
    "    '55-64a': ['455', '464'],\n",
    "    '65 e+': ['465', '599'],\n",
    "    '05-09a': ['405', '409'],\n",
    "    '10-14a': ['410', '414'],\n",
    "    '15-19a': ['415', '419'],\n",
    "    '20-29a': ['420', '429'],\n",
    "    '30-39a': ['430', '439'],\n",
    "    '40-49a': ['440', '449'],\n",
    "    '50-59a': ['450', '459'],\n",
    "    '60-69a': ['460', '469'],\n",
    "    '70-79a': ['470', '479'],\n",
    "    '80 e+': ['480', '599'],\n",
    "}\n",
    "\n",
    "id_agravos = {\n",
    "    'A90': 'DENGUE',\n",
    "    'A630': 'Verrugas anogenitais',\n",
    "    'A60':'Herpes',\n",
    "    'A53': 'Sifilis',\n",
    "    'A539': 'Sifilis',\n",
    "    'A010': 'FEBRE TIFOIDE',\n",
    "    'A379': 'COQUELUCHE',\n",
    "    'A959': 'FEBRE AMARELA',\n",
    "    'A509': 'Sifilis congenita',\n",
    "    'A309': 'HANSNENIASE',\n",
    "    'A279': 'LEPTOSPIROSE',\n",
    "    'A35': 'TETANO',\n",
    "    'A369': 'DIFTERIA',\n",
    "    'A809': 'PARALISIA FLACIDA AGUDA POLIOMIELITE',\n",
    "    'A988': 'HANTAVIROSE',\n",
    "    'A169': 'TUBERCULOSE',\n",
    "    'A080': 'ROTAVIRUS',\n",
    "    'A009': 'COLERA',\n",
    "    'A928': 'Febres por arbovírus e febres hemorrágicas virais',\n",
    "    'A33': 'TETANO RECEN NASCIDO',\n",
    "    'A779': 'FEBRE MACULOSA - RICKETTSIOSES',\n",
    "    'A719': 'TRACOMA',\n",
    "    'A920': 'Chikungunya',\n",
    "    'A051': 'BOTULISMO',\n",
    "    'A810': 'DOENCA DE CREUTZFELDT-JACOB',\n",
    "    'A692': 'Doenca de Lyme',\n",
    "    'A938': 'Febres virais transmitidas por artropodes',\n",
    "    'A23': 'BRUCELOSE',\n",
    "    'A923': 'FEBRE DO NILO',\n",
    "    'A829': 'RAIVA HUMANA',\n",
    "    'A219': 'TULAREMIA',\n",
    "    'A969': 'Febre hemorragica por arenavirus',    \n",
    "    'A08': 'SINDROME DIARREICA AGUDA',\n",
    "    'A209': 'PESTE',\n",
    "    'A229': 'CARBUNCULO OU ANTRAZ',\n",
    "    'B551': 'LEISHMANIOSE TEGUMENTAR AMERICANA',\n",
    "    'B550': 'LEISHMANIOSE VISCERAL',\n",
    "    'B24': 'Doença pelo vírus da imunodeficiência humana [HIV]',\n",
    "    'B19': 'HEPATITES VIRAIS',\n",
    "    'B09': 'DOENCAS EXANTEMATICAS',\n",
    "    'B659': 'ESQUISTOSSOMOSE',\n",
    "    'B571': 'DOENCA DE CHAGAS AGUDA',\n",
    "    'B019': 'VARICELA',\n",
    "    'B26': 'Caxumba',\n",
    "    'B54': 'MALARIA',\n",
    "    'B58': 'Toxoplasmose',\n",
    "    'B01': 'Varicela',\n",
    "    'B749': 'FILARIOSE NAO ESPECIFICADA',\n",
    "    'B03': 'VARIOLA',\n",
    "    'D593': 'Sindrome hemolitico-uremica',\n",
    "    'D699': 'SINDROME DA FEBRE HEMORRAGICA AGUDA',\n",
    "    'F99': 'Transtorno mental não especificado',\n",
    "    'G039': 'MENINGITE',\n",
    "    'G043': 'SINDROME NEUROLOGICA AGUDA',\n",
    "    'H833': 'Doenças do ouvido interno',\n",
    "    'J06': 'SINDROME GRIPAL',\n",
    "    'J07': 'SINDROME RESPIRATORIA AGUDA',\n",
    "    'J189': 'Influenza e pneumonia',\n",
    "    'J11': 'INFLUENZA HUMANA POR NOVO SUBTIPO (PANDEMICO)',\n",
    "    'J64': 'PNEUMONIA',\n",
    "    'L989': 'Afeccoes da pele e do tecido subcutaneo',\n",
    "    'N72': 'Doenca inflamatoria do colo do utero',\n",
    "    'N485': 'Doenças dos órgãos genitais masculinos',\n",
    "    'N199': 'SINDROME DA INSUFICIENCIA RENAL AGUDA',\n",
    "    'O981': 'Complicacoes da gravidez',\n",
    "    'O986': 'Doencas causadas por protozoarios complicando a gravidez, o parto e o puerperio',\n",
    "    'P350': 'Sindrome da rubeola congenita',\n",
    "    'P371': 'Toxoplasmose congenita',\n",
    "    'R17': 'SINDROME ICTERICA AGUDA',\n",
    "    'R36': 'Secrecao uretral',\n",
    "    'R699': 'OUTRAS SINDROMES',\n",
    "    'T659': 'INTOXICACAO EXOGENA',    \n",
    "    'Y59': 'EVENTOS ADVERSOS POS-VACINACAO',\n",
    "    'Y09': 'AGRESSAO',\n",
    "    'Y96': 'Circunstancia relativa as condicoes de trabalho',\n",
    "    'X29': 'Contato com animais e plantas venenosos',\n",
    "    'W64': 'Exposição a forças mecânicas animadas',\n",
    "    'Z209': 'Contato com exposicao a doencas transmissiveis nao especificadas',\n",
    "    'Z206': 'Contato com e exposicao ao virus da imunodeficiencia humana [HIV]',\n",
    "    'Z21': 'Estado de infeccao assintomatica pelo virus da imunodeficiencia humana [HIV]',\n",
    "    'Z579': 'Exposicao ocupacional a fatores de risco',\n",
    "}"
   ],
   "id": "ebda85458ddddb56",
   "outputs": [],
   "execution_count": 17
  },
  {
   "metadata": {
    "ExecuteTime": {
     "end_time": "2024-06-06T11:51:37.725966Z",
     "start_time": "2024-06-06T11:51:37.711444Z"
    }
   },
   "cell_type": "code",
   "source": [
    "regisao_saude = ['Tocantins'\n",
    "                 'Carajás'\n",
    "                 'Metropolitana II'\n",
    "                 'Marajó I'\n",
    "                 'Araguaia'\n",
    "                 'Baixo Amazonas'\n",
    "                 'Xingu'\n",
    "                 'Marajó II'\n",
    "                 'Metropolitana I'\n",
    "                 'Rio Caetés'\n",
    "                 'Metropolitana III'\n",
    "                 'Tapajós'\n",
    "                 'Lago de Tucuruí'\n",
    "                 ]"
   ],
   "id": "50daffbb036796ac",
   "outputs": [],
   "execution_count": 3
  },
  {
   "metadata": {
    "ExecuteTime": {
     "end_time": "2024-06-06T13:53:55.110765Z",
     "start_time": "2024-06-06T13:53:55.081048Z"
    }
   },
   "cell_type": "code",
   "source": [
    "raca = {\n",
    "    '1': 'Branca',\n",
    "    '2': 'Preta',\n",
    "    '3': 'Amarela',\n",
    "    '4': 'Parda',\n",
    "    '5': 'Indígena',\n",
    "    '9': 'Ignorado',\n",
    "    'nan': 'Ignorado'\n",
    "}\n",
    "\n",
    "sexo = {\n",
    "    'M': 'Masculino',\n",
    "    'F': 'Feminino',\n",
    "    'I': 'Ignorado'\n",
    "\n",
    "}"
   ],
   "id": "e3bc93f7e6ce71af",
   "outputs": [
    {
     "ename": "NameError",
     "evalue": "name 'nan' is not defined",
     "output_type": "error",
     "traceback": [
      "\u001B[1;31m---------------------------------------------------------------------------\u001B[0m",
      "\u001B[1;31mNameError\u001B[0m                                 Traceback (most recent call last)",
      "Cell \u001B[1;32mIn[34], line 8\u001B[0m\n\u001B[0;32m      1\u001B[0m raca \u001B[38;5;241m=\u001B[39m {\n\u001B[0;32m      2\u001B[0m     \u001B[38;5;124m'\u001B[39m\u001B[38;5;124m1\u001B[39m\u001B[38;5;124m'\u001B[39m: \u001B[38;5;124m'\u001B[39m\u001B[38;5;124mBranca\u001B[39m\u001B[38;5;124m'\u001B[39m,\n\u001B[0;32m      3\u001B[0m     \u001B[38;5;124m'\u001B[39m\u001B[38;5;124m2\u001B[39m\u001B[38;5;124m'\u001B[39m: \u001B[38;5;124m'\u001B[39m\u001B[38;5;124mPreta\u001B[39m\u001B[38;5;124m'\u001B[39m,\n\u001B[0;32m      4\u001B[0m     \u001B[38;5;124m'\u001B[39m\u001B[38;5;124m3\u001B[39m\u001B[38;5;124m'\u001B[39m: \u001B[38;5;124m'\u001B[39m\u001B[38;5;124mAmarela\u001B[39m\u001B[38;5;124m'\u001B[39m,\n\u001B[0;32m      5\u001B[0m     \u001B[38;5;124m'\u001B[39m\u001B[38;5;124m4\u001B[39m\u001B[38;5;124m'\u001B[39m: \u001B[38;5;124m'\u001B[39m\u001B[38;5;124mParda\u001B[39m\u001B[38;5;124m'\u001B[39m,\n\u001B[0;32m      6\u001B[0m     \u001B[38;5;124m'\u001B[39m\u001B[38;5;124m5\u001B[39m\u001B[38;5;124m'\u001B[39m: \u001B[38;5;124m'\u001B[39m\u001B[38;5;124mIndígena\u001B[39m\u001B[38;5;124m'\u001B[39m,\n\u001B[0;32m      7\u001B[0m     \u001B[38;5;124m'\u001B[39m\u001B[38;5;124m9\u001B[39m\u001B[38;5;124m'\u001B[39m: \u001B[38;5;124m'\u001B[39m\u001B[38;5;124mIgnorado\u001B[39m\u001B[38;5;124m'\u001B[39m,\n\u001B[1;32m----> 8\u001B[0m     nan: \u001B[38;5;124m'\u001B[39m\u001B[38;5;124mIgnorado\u001B[39m\u001B[38;5;124m'\u001B[39m\n\u001B[0;32m      9\u001B[0m }\n\u001B[0;32m     11\u001B[0m sexo \u001B[38;5;241m=\u001B[39m {\n\u001B[0;32m     12\u001B[0m     \u001B[38;5;124m'\u001B[39m\u001B[38;5;124mM\u001B[39m\u001B[38;5;124m'\u001B[39m: \u001B[38;5;124m'\u001B[39m\u001B[38;5;124mMasculino\u001B[39m\u001B[38;5;124m'\u001B[39m,\n\u001B[0;32m     13\u001B[0m     \u001B[38;5;124m'\u001B[39m\u001B[38;5;124mF\u001B[39m\u001B[38;5;124m'\u001B[39m: \u001B[38;5;124m'\u001B[39m\u001B[38;5;124mFeminino\u001B[39m\u001B[38;5;124m'\u001B[39m,\n\u001B[0;32m     14\u001B[0m     \u001B[38;5;124m'\u001B[39m\u001B[38;5;124mI\u001B[39m\u001B[38;5;124m'\u001B[39m: \u001B[38;5;124m'\u001B[39m\u001B[38;5;124mIgnorado\u001B[39m\u001B[38;5;124m'\u001B[39m\n\u001B[0;32m     15\u001B[0m \n\u001B[0;32m     16\u001B[0m }\n",
      "\u001B[1;31mNameError\u001B[0m: name 'nan' is not defined"
     ]
    }
   ],
   "execution_count": 34
  },
  {
   "metadata": {
    "ExecuteTime": {
     "end_time": "2024-06-06T13:57:58.039252Z",
     "start_time": "2024-06-06T13:57:53.082754Z"
    }
   },
   "cell_type": "code",
   "source": [
    "# Substitua 'seu_arquivo.xlsx' pelo caminho do seu arquivo .xlsx\n",
    "arquivo_csv = 'NINDINET.csv'\n",
    "\n",
    "\n",
    "df = pd.read_csv(arquivo_csv, usecols=colunas_painel, sep=';', low_memory=False, \n",
    "                dtype={'CS_RACA': str})\n",
    "\n",
    "df.head()"
   ],
   "id": "717d3ace8ae47942",
   "outputs": [
    {
     "data": {
      "text/plain": [
       "  NU_NOTIFIC ID_AGRAVO  NU_ANO  ID_MUNICIP  ID_REGIONA CS_SEXO CS_RACA  \\\n",
       "0    0002090       A90    2007      150304      1495.0       M       4   \n",
       "1    0017314       A90    2007      150506      1494.0       F       9   \n",
       "2    0077605       A90    2008      150330      1489.0       M       4   \n",
       "3    0125768       A90    2008      150553      1494.0       F       4   \n",
       "4    0048150       X29    2008      150310      1491.0       M       4   \n",
       "\n",
       "   ID_MN_RESI  \n",
       "0    150304.0  \n",
       "1    150506.0  \n",
       "2    150330.0  \n",
       "3    150553.0  \n",
       "4    150450.0  "
      ],
      "text/html": [
       "<div>\n",
       "<style scoped>\n",
       "    .dataframe tbody tr th:only-of-type {\n",
       "        vertical-align: middle;\n",
       "    }\n",
       "\n",
       "    .dataframe tbody tr th {\n",
       "        vertical-align: top;\n",
       "    }\n",
       "\n",
       "    .dataframe thead th {\n",
       "        text-align: right;\n",
       "    }\n",
       "</style>\n",
       "<table border=\"1\" class=\"dataframe\">\n",
       "  <thead>\n",
       "    <tr style=\"text-align: right;\">\n",
       "      <th></th>\n",
       "      <th>NU_NOTIFIC</th>\n",
       "      <th>ID_AGRAVO</th>\n",
       "      <th>NU_ANO</th>\n",
       "      <th>ID_MUNICIP</th>\n",
       "      <th>ID_REGIONA</th>\n",
       "      <th>CS_SEXO</th>\n",
       "      <th>CS_RACA</th>\n",
       "      <th>ID_MN_RESI</th>\n",
       "    </tr>\n",
       "  </thead>\n",
       "  <tbody>\n",
       "    <tr>\n",
       "      <th>0</th>\n",
       "      <td>0002090</td>\n",
       "      <td>A90</td>\n",
       "      <td>2007</td>\n",
       "      <td>150304</td>\n",
       "      <td>1495.0</td>\n",
       "      <td>M</td>\n",
       "      <td>4</td>\n",
       "      <td>150304.0</td>\n",
       "    </tr>\n",
       "    <tr>\n",
       "      <th>1</th>\n",
       "      <td>0017314</td>\n",
       "      <td>A90</td>\n",
       "      <td>2007</td>\n",
       "      <td>150506</td>\n",
       "      <td>1494.0</td>\n",
       "      <td>F</td>\n",
       "      <td>9</td>\n",
       "      <td>150506.0</td>\n",
       "    </tr>\n",
       "    <tr>\n",
       "      <th>2</th>\n",
       "      <td>0077605</td>\n",
       "      <td>A90</td>\n",
       "      <td>2008</td>\n",
       "      <td>150330</td>\n",
       "      <td>1489.0</td>\n",
       "      <td>M</td>\n",
       "      <td>4</td>\n",
       "      <td>150330.0</td>\n",
       "    </tr>\n",
       "    <tr>\n",
       "      <th>3</th>\n",
       "      <td>0125768</td>\n",
       "      <td>A90</td>\n",
       "      <td>2008</td>\n",
       "      <td>150553</td>\n",
       "      <td>1494.0</td>\n",
       "      <td>F</td>\n",
       "      <td>4</td>\n",
       "      <td>150553.0</td>\n",
       "    </tr>\n",
       "    <tr>\n",
       "      <th>4</th>\n",
       "      <td>0048150</td>\n",
       "      <td>X29</td>\n",
       "      <td>2008</td>\n",
       "      <td>150310</td>\n",
       "      <td>1491.0</td>\n",
       "      <td>M</td>\n",
       "      <td>4</td>\n",
       "      <td>150450.0</td>\n",
       "    </tr>\n",
       "  </tbody>\n",
       "</table>\n",
       "</div>"
      ]
     },
     "execution_count": 40,
     "metadata": {},
     "output_type": "execute_result"
    }
   ],
   "execution_count": 40
  },
  {
   "metadata": {
    "ExecuteTime": {
     "end_time": "2024-06-06T14:41:45.179406Z",
     "start_time": "2024-06-06T14:41:45.158154Z"
    }
   },
   "cell_type": "code",
   "source": "df['NU_ANO'].unique()",
   "id": "e54708d29f7be2f1",
   "outputs": [
    {
     "data": {
      "text/plain": [
       "array([2007, 2008, 2010, 2013, 2009, 2017, 2002, 2019, 2012, 2001, 2011,\n",
       "       2006, 2004, 2003, 2005, 2000, 2016, 2014, 1983, 2015, 2018, 2020,\n",
       "       1986], dtype=int64)"
      ]
     },
     "execution_count": 51,
     "metadata": {},
     "output_type": "execute_result"
    }
   ],
   "execution_count": 51
  },
  {
   "metadata": {
    "ExecuteTime": {
     "end_time": "2024-06-06T13:59:54.987106Z",
     "start_time": "2024-06-06T13:59:54.923880Z"
    }
   },
   "cell_type": "code",
   "source": "df['CS_RACA'].value_counts()",
   "id": "e427a2c8b4f12210",
   "outputs": [
    {
     "data": {
      "text/plain": [
       "CS_RACA\n",
       "4    766826\n",
       "1    123250\n",
       "2     65816\n",
       "9     38887\n",
       "3      8428\n",
       "5      7362\n",
       "Name: count, dtype: int64"
      ]
     },
     "execution_count": 44,
     "metadata": {},
     "output_type": "execute_result"
    }
   ],
   "execution_count": 44
  },
  {
   "metadata": {
    "ExecuteTime": {
     "end_time": "2024-06-06T14:01:06.049364Z",
     "start_time": "2024-06-06T14:01:05.828815Z"
    }
   },
   "cell_type": "code",
   "source": [
    "# Tratamento dos dados\n",
    "# Tratando a coluna ID_AGRAVO, substituindo os códigos pelos nomes dos agravos no dicionário id_agravos\n",
    "df['ID_AGRAVO'] = df['ID_AGRAVO'].map(id_agravos)\n",
    "\n",
    "# Tratando a coluna CS_SEXO, substituindo os códigos pelos nomes dos sexos no dicionário sexo\n",
    "df['CS_SEXO'] = df['CS_SEXO'].map(sexo)\n",
    "\n",
    "# Tratando a coluna CS_RACA, substituindo os códigos pelos nomes das raças no dicionário raca\n",
    "# Transformando a coluna CS_RACA em inteiro\n",
    "df['CS_RACA'] = df['CS_RACA'].map(raca)\n",
    "\n",
    "df.head()"
   ],
   "id": "b18358ccad56f257",
   "outputs": [
    {
     "data": {
      "text/plain": [
       "  NU_NOTIFIC                                ID_AGRAVO  NU_ANO  ID_MUNICIP  \\\n",
       "0    0002090                                   DENGUE    2007      150304   \n",
       "1    0017314                                   DENGUE    2007      150506   \n",
       "2    0077605                                   DENGUE    2008      150330   \n",
       "3    0125768                                   DENGUE    2008      150553   \n",
       "4    0048150  Contato com animais e plantas venenosos    2008      150310   \n",
       "\n",
       "   ID_REGIONA    CS_SEXO   CS_RACA  ID_MN_RESI  \n",
       "0      1495.0  Masculino     Parda    150304.0  \n",
       "1      1494.0   Feminino  Ignorado    150506.0  \n",
       "2      1489.0  Masculino     Parda    150330.0  \n",
       "3      1494.0   Feminino     Parda    150553.0  \n",
       "4      1491.0  Masculino     Parda    150450.0  "
      ],
      "text/html": [
       "<div>\n",
       "<style scoped>\n",
       "    .dataframe tbody tr th:only-of-type {\n",
       "        vertical-align: middle;\n",
       "    }\n",
       "\n",
       "    .dataframe tbody tr th {\n",
       "        vertical-align: top;\n",
       "    }\n",
       "\n",
       "    .dataframe thead th {\n",
       "        text-align: right;\n",
       "    }\n",
       "</style>\n",
       "<table border=\"1\" class=\"dataframe\">\n",
       "  <thead>\n",
       "    <tr style=\"text-align: right;\">\n",
       "      <th></th>\n",
       "      <th>NU_NOTIFIC</th>\n",
       "      <th>ID_AGRAVO</th>\n",
       "      <th>NU_ANO</th>\n",
       "      <th>ID_MUNICIP</th>\n",
       "      <th>ID_REGIONA</th>\n",
       "      <th>CS_SEXO</th>\n",
       "      <th>CS_RACA</th>\n",
       "      <th>ID_MN_RESI</th>\n",
       "    </tr>\n",
       "  </thead>\n",
       "  <tbody>\n",
       "    <tr>\n",
       "      <th>0</th>\n",
       "      <td>0002090</td>\n",
       "      <td>DENGUE</td>\n",
       "      <td>2007</td>\n",
       "      <td>150304</td>\n",
       "      <td>1495.0</td>\n",
       "      <td>Masculino</td>\n",
       "      <td>Parda</td>\n",
       "      <td>150304.0</td>\n",
       "    </tr>\n",
       "    <tr>\n",
       "      <th>1</th>\n",
       "      <td>0017314</td>\n",
       "      <td>DENGUE</td>\n",
       "      <td>2007</td>\n",
       "      <td>150506</td>\n",
       "      <td>1494.0</td>\n",
       "      <td>Feminino</td>\n",
       "      <td>Ignorado</td>\n",
       "      <td>150506.0</td>\n",
       "    </tr>\n",
       "    <tr>\n",
       "      <th>2</th>\n",
       "      <td>0077605</td>\n",
       "      <td>DENGUE</td>\n",
       "      <td>2008</td>\n",
       "      <td>150330</td>\n",
       "      <td>1489.0</td>\n",
       "      <td>Masculino</td>\n",
       "      <td>Parda</td>\n",
       "      <td>150330.0</td>\n",
       "    </tr>\n",
       "    <tr>\n",
       "      <th>3</th>\n",
       "      <td>0125768</td>\n",
       "      <td>DENGUE</td>\n",
       "      <td>2008</td>\n",
       "      <td>150553</td>\n",
       "      <td>1494.0</td>\n",
       "      <td>Feminino</td>\n",
       "      <td>Parda</td>\n",
       "      <td>150553.0</td>\n",
       "    </tr>\n",
       "    <tr>\n",
       "      <th>4</th>\n",
       "      <td>0048150</td>\n",
       "      <td>Contato com animais e plantas venenosos</td>\n",
       "      <td>2008</td>\n",
       "      <td>150310</td>\n",
       "      <td>1491.0</td>\n",
       "      <td>Masculino</td>\n",
       "      <td>Parda</td>\n",
       "      <td>150450.0</td>\n",
       "    </tr>\n",
       "  </tbody>\n",
       "</table>\n",
       "</div>"
      ]
     },
     "execution_count": 45,
     "metadata": {},
     "output_type": "execute_result"
    }
   ],
   "execution_count": 45
  },
  {
   "metadata": {
    "ExecuteTime": {
     "end_time": "2024-06-06T14:06:29.265704Z",
     "start_time": "2024-06-06T14:06:29.111074Z"
    }
   },
   "cell_type": "code",
   "source": [
    "df['CS_RACA'].fillna('Ignorado')\n",
    "df['CS_RACA'].unique()"
   ],
   "id": "d7a79a22116a2832",
   "outputs": [
    {
     "data": {
      "text/plain": [
       "array(['Parda', 'Ignorado', 'Branca', 'Preta', 'Indígena', 'Amarela'],\n",
       "      dtype=object)"
      ]
     },
     "execution_count": 48,
     "metadata": {},
     "output_type": "execute_result"
    }
   ],
   "execution_count": 48
  },
  {
   "metadata": {
    "ExecuteTime": {
     "end_time": "2024-06-06T14:06:39.877676Z",
     "start_time": "2024-06-06T14:06:39.806102Z"
    }
   },
   "cell_type": "code",
   "source": "df['CS_RACA'].value_counts()",
   "id": "eb15147e928bf5cb",
   "outputs": [
    {
     "data": {
      "text/plain": [
       "CS_RACA\n",
       "Parda       766826\n",
       "Branca      123250\n",
       "Ignorado     76893\n",
       "Preta        65816\n",
       "Amarela       8428\n",
       "Indígena      7362\n",
       "Name: count, dtype: int64"
      ]
     },
     "execution_count": 49,
     "metadata": {},
     "output_type": "execute_result"
    }
   ],
   "execution_count": 49
  },
  {
   "metadata": {
    "ExecuteTime": {
     "end_time": "2024-06-06T14:08:49.715373Z",
     "start_time": "2024-06-06T14:08:44.483305Z"
    }
   },
   "cell_type": "code",
   "source": [
    "# Salvando o arquivo tratado\n",
    "df.to_csv('painel.csv', index=False)"
   ],
   "id": "38595507b46f2b47",
   "outputs": [],
   "execution_count": 50
  }
 ],
 "metadata": {
  "kernelspec": {
   "display_name": "Python 3",
   "language": "python",
   "name": "python3"
  },
  "language_info": {
   "codemirror_mode": {
    "name": "ipython",
    "version": 2
   },
   "file_extension": ".py",
   "mimetype": "text/x-python",
   "name": "python",
   "nbconvert_exporter": "python",
   "pygments_lexer": "ipython2",
   "version": "2.7.6"
  }
 },
 "nbformat": 4,
 "nbformat_minor": 5
}
